{
 "cells": [
  {
   "cell_type": "code",
   "execution_count": 1,
   "id": "2b71ca87",
   "metadata": {
    "pycharm": {
     "name": "#%%\n"
    }
   },
   "outputs": [],
   "source": [
    "import numpy as np\n",
    "import pandas as pd\n",
    "import os\n",
    "import matplotlib.pyplot as plt\n",
    "import cv2\n",
    "from keras_preprocessing.image import ImageDataGenerator, array_to_img, img_to_array, load_img"
   ]
  },
  {
   "cell_type": "code",
   "execution_count": 2,
   "id": "bb118de4",
   "metadata": {
    "pycharm": {
     "name": "#%%\n"
    }
   },
   "outputs": [
    {
     "data": {
      "text/plain": [
       "0"
      ]
     },
     "execution_count": 2,
     "metadata": {},
     "output_type": "execute_result"
    }
   ],
   "source": [
    "\n",
    "datagen1 = ImageDataGenerator(\n",
    "        width_shift_range=0.3,\n",
    "        height_shift_range=0.3,\n",
    "        shear_range=0.3,\n",
    "        zoom_range=0.3,\n",
    "        horizontal_flip=False,\n",
    "        fill_mode='nearest')\n",
    "data_dir2 = \"C:/Users/EGYPT/Desktop/BreastCancer-DLMOdel/Dataset_BUSI_with_GT/normal\"\n",
    "for file_name in os.listdir(data_dir2):\n",
    "    img = cv2.imread(os.path.join(data_dir2, file_name))\n",
    "    x = img_to_array(img)  # this is a Numpy array with shape (3, 150, 150)\n",
    "    x = x.reshape((1,) + x.shape)  # this is a Numpy array with shape (1, 3, 150, 150)\n",
    "    j = 0\n",
    "    for batch in datagen1.flow(x, batch_size=1,\n",
    "                          save_to_dir='Dataset_BUSI_with_GT/normal', save_prefix='normal', save_format='jpeg'):\n",
    "        j += 1\n",
    "        if j > 10:\n",
    "            break  "
   ]
  },
  {
   "cell_type": "markdown",
   "id": "dbed3db1",
   "metadata": {
    "pycharm": {
     "name": "#%% md\n"
    }
   },
   "source": [
    "Consider changing the variable names and paths to augment each file of the images Iam only showing the augmentation for the normal non cancerous data set with masks the others should be done using the same algorithm with changing the datadir only "
   ]
  }
 ],
 "metadata": {
  "kernelspec": {
   "display_name": "Python 3 (ipykernel)",
   "language": "python",
   "name": "python3"
  },
  "language_info": {
   "codemirror_mode": {
    "name": "ipython",
    "version": 3
   },
   "file_extension": ".py",
   "mimetype": "text/x-python",
   "name": "python",
   "nbconvert_exporter": "python",
   "pygments_lexer": "ipython3",
   "version": "3.9.12"
  }
 },
 "nbformat": 4,
 "nbformat_minor": 5
}